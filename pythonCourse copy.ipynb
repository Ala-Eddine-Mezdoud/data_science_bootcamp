{
  "cells": [
    {
      "cell_type": "markdown",
      "metadata": {
        "id": "aU7VVeTy3fJ_"
      },
      "source": [
        "##Lab 2: Introduction to Python\n",
        "In this lab, we will introduce basic Python concepts that are essential for students to understand and successfully follow the upcoming Introduction to AI lab sheets."
      ]
    },
    {
      "cell_type": "markdown",
      "metadata": {
        "id": "5YsEAIR215TE"
      },
      "source": [
        "## Exercise 1: Control Flow and Loops\n",
        "\n",
        "1. Write a `for` loop to print numbers from 1 to 10 using `range()`.\n",
        "2. Write a `while` loop to print numbers from 1 to 10.\n",
        "3. Use an `if-else` statement to print only the even numbers between 1 and 10.\n",
        "4. Given a list `L` containing numbers from 1 to 10, use a `for` loop with `enumerate()` to print both the index and value of each element in the list.\n",
        "5. Use a list comprehension to create a new list `L2` containing the squares of the numbers in list `L1`.\n",
        "6. Use a `for` loop with `zip()` to iterate over lists `L1` and `L2` simultaneously, and print each number along with its square.\n",
        "7. Use a nested loop to print a multiplication table for numbers 1 through 5.\n",
        "\n",
        "\n"
      ]
    },
    {
      "cell_type": "code",
      "execution_count": 5,
      "metadata": {},
      "outputs": [
        {
          "name": "stdout",
          "output_type": "stream",
          "text": [
            "counting: 1\n",
            "counting: 2\n",
            "counting: 3\n",
            "counting: 4\n",
            "counting: 5\n",
            "counting: 6\n",
            "counting: 7\n",
            "counting: 8\n",
            "counting: 9\n",
            "counting: 10\n"
          ]
        }
      ],
      "source": [
        "for i in range(1,11):\n",
        "    print(f\"counting: {i}\")"
      ]
    },
    {
      "cell_type": "code",
      "execution_count": 9,
      "metadata": {},
      "outputs": [
        {
          "name": "stdout",
          "output_type": "stream",
          "text": [
            "counting: 1\n",
            "counting: 2\n",
            "counting: 3\n",
            "counting: 4\n",
            "counting: 5\n",
            "counting: 6\n",
            "counting: 7\n",
            "counting: 8\n",
            "counting: 9\n",
            "counting: 10\n"
          ]
        }
      ],
      "source": [
        "i = 1\n",
        "while i < 11:\n",
        "    print(f\"counting: {i}\")\n",
        "    i += 1"
      ]
    },
    {
      "cell_type": "code",
      "execution_count": 10,
      "metadata": {},
      "outputs": [
        {
          "name": "stdout",
          "output_type": "stream",
          "text": [
            "2 is even number\n",
            "4 is even number\n",
            "6 is even number\n",
            "8 is even number\n",
            "10 is even number\n"
          ]
        }
      ],
      "source": [
        "for i in range(1,11):\n",
        "    if i % 2 == 0 :\n",
        "        print(f\"{i} is even number\")"
      ]
    },
    {
      "cell_type": "code",
      "execution_count": 11,
      "metadata": {},
      "outputs": [
        {
          "name": "stdout",
          "output_type": "stream",
          "text": [
            "1 is at 0 index\n",
            "2 is at 1 index\n",
            "3 is at 2 index\n",
            "4 is at 3 index\n",
            "5 is at 4 index\n",
            "6 is at 5 index\n",
            "7 is at 6 index\n",
            "8 is at 7 index\n",
            "9 is at 8 index\n",
            "10 is at 9 index\n"
          ]
        }
      ],
      "source": [
        "L = [x for x in range(1,11)]\n",
        "for index,element in enumerate(L):\n",
        "    print(f\"{element} is at {index} index\")"
      ]
    },
    {
      "cell_type": "code",
      "execution_count": 12,
      "metadata": {},
      "outputs": [
        {
          "name": "stdout",
          "output_type": "stream",
          "text": [
            "[1, 4, 9, 16, 25, 36, 49, 64, 81, 100]\n"
          ]
        }
      ],
      "source": [
        "L2 = [x**2 for x in L]\n",
        "print(L2)"
      ]
    },
    {
      "cell_type": "code",
      "execution_count": 13,
      "metadata": {},
      "outputs": [
        {
          "name": "stdout",
          "output_type": "stream",
          "text": [
            "1 1\n",
            "2 4\n",
            "3 9\n",
            "4 16\n",
            "5 25\n",
            "6 36\n",
            "7 49\n",
            "8 64\n",
            "9 81\n",
            "10 100\n"
          ]
        }
      ],
      "source": [
        "for lOne , lTwo in zip(L,L2):\n",
        "    print(lOne,lTwo)"
      ]
    },
    {
      "cell_type": "code",
      "execution_count": 14,
      "metadata": {},
      "outputs": [
        {
          "name": "stdout",
          "output_type": "stream",
          "text": [
            "1 * 1 = 1\n",
            "1 * 2 = 2\n",
            "1 * 3 = 3\n",
            "1 * 4 = 4\n",
            "1 * 5 = 5\n",
            "2 * 1 = 2\n",
            "2 * 2 = 4\n",
            "2 * 3 = 6\n",
            "2 * 4 = 8\n",
            "2 * 5 = 10\n",
            "3 * 1 = 3\n",
            "3 * 2 = 6\n",
            "3 * 3 = 9\n",
            "3 * 4 = 12\n",
            "3 * 5 = 15\n",
            "4 * 1 = 4\n",
            "4 * 2 = 8\n",
            "4 * 3 = 12\n",
            "4 * 4 = 16\n",
            "4 * 5 = 20\n",
            "5 * 1 = 5\n",
            "5 * 2 = 10\n",
            "5 * 3 = 15\n",
            "5 * 4 = 20\n",
            "5 * 5 = 25\n"
          ]
        }
      ],
      "source": [
        "for i in range(1,6):\n",
        "    for j in range(1,6):\n",
        "        print(f\"{i} * {j} = {i*j}\")"
      ]
    },
    {
      "cell_type": "markdown",
      "metadata": {
        "id": "tl5ZFm8-FIiw"
      },
      "source": [
        "## Exercise 2 (Lists)\n",
        "\n",
        "### Part 1: Basic List Operations\n",
        "\n",
        "1. Create a list L1 containing the values `[1, 2, 3, 4, 5]`.\n",
        "\n",
        "2. Append `11` to the end, insert `0` at the beginning, and remove the number `3` from L1.\n",
        "\n",
        "3. Create another list `L2` containing integers from 1 to 10 using `range`.\n",
        "\n",
        "4. Create a list L3 containing the concatenation of the two lists L1 and L2.\n",
        "\n",
        "5. Reverse the order of L3 using list functions.\n",
        "\n",
        "6. Create another list `even` containing only even numbers from L3 using `list comprehension`.\n",
        "\n",
        "7. Create another list `odd` containing only odd numbers from L3 that are  between 2 and 8 (inclusive) using `list comprehension`.\n",
        "\n",
        "###  Part 2: Basic Slicing Operations\n",
        "\n",
        "1. Use slicing to extract the first three elements from L3.\n",
        "\n",
        "2. Use slicing to extract the last two elements from L3.\n",
        "\n",
        "3. Use slicing to create a list L4 that contains every other element from L3 starting with the first one, using slicing. For example, given the list s = [10, 20, 30, 40, 50, 60, 70, 80]. The result should be: [10, 30, 50, 70].\n",
        "\n",
        "4. Use slicing to create a list L5 that contains every other element from L3 starting from the end, using slicing. For example, given the list s = [10, 20, 30, 40, 50, 60, 70, 80]. The result should be: [80, 60, 40, 20].\n",
        "\n",
        "5. Use slicing to reverse the list."
      ]
    },
    {
      "cell_type": "code",
      "execution_count": null,
      "metadata": {},
      "outputs": [
        {
          "name": "stdout",
          "output_type": "stream",
          "text": [
            "[0, 1, 2, 4, 5, 11]\n"
          ]
        }
      ],
      "source": [
        "# Part One\n",
        "L1 = [1,2,3,4,5]\n",
        "L1.append(11)\n",
        "L1.insert(0,0)\n",
        "L1.remove(3)\n",
        "print(L1)"
      ]
    },
    {
      "cell_type": "code",
      "execution_count": 13,
      "metadata": {},
      "outputs": [
        {
          "name": "stdout",
          "output_type": "stream",
          "text": [
            "[1, 2, 3, 4, 5, 6, 7, 8, 9, 10]\n"
          ]
        }
      ],
      "source": [
        "L2 = [x for x in range(1,11)]\n",
        "print(L2)"
      ]
    },
    {
      "cell_type": "code",
      "execution_count": 20,
      "metadata": {},
      "outputs": [
        {
          "name": "stdout",
          "output_type": "stream",
          "text": [
            "[0, 1, 2, 4, 5, 11, 1, 2, 3, 4, 5, 6, 7, 8, 9, 10]\n",
            "reversed L3: [10, 9, 8, 7, 6, 5, 4, 3, 2, 1, 11, 5, 4, 2, 1, 0]\n"
          ]
        }
      ],
      "source": [
        "L3 = L1 + L2\n",
        "print(L3)\n",
        "L3.reverse()\n",
        "print(\"reversed L3:\", L3)"
      ]
    },
    {
      "cell_type": "code",
      "execution_count": 21,
      "metadata": {},
      "outputs": [
        {
          "name": "stdout",
          "output_type": "stream",
          "text": [
            "[10, 8, 6, 4, 2, 4, 2, 0]\n"
          ]
        }
      ],
      "source": [
        "even = [x for x in L3 if x%2 == 0]\n",
        "print(even)"
      ]
    },
    {
      "cell_type": "code",
      "execution_count": 22,
      "metadata": {},
      "outputs": [
        {
          "name": "stdout",
          "output_type": "stream",
          "text": [
            "[7, 5, 3, 5]\n"
          ]
        }
      ],
      "source": [
        "odd = [x for x in L3 if x%2 != 0 and x in range(2,9)]\n",
        "print(odd)"
      ]
    },
    {
      "cell_type": "code",
      "execution_count": null,
      "metadata": {},
      "outputs": [
        {
          "name": "stdout",
          "output_type": "stream",
          "text": [
            "[10, 9, 8, 7, 6, 5, 4, 3, 2, 1, 11, 5, 4, 2, 1, 0]\n",
            "First 3 elements:  [10, 9, 8]\n",
            "Last 2 elements:  [1, 0]\n"
          ]
        }
      ],
      "source": [
        "# Part Two   \n",
        "print('First 3 elements: ',L3[:3])\n",
        "print('Last 2 elements: ',L3[-2:])"
      ]
    },
    {
      "cell_type": "markdown",
      "metadata": {
        "id": "pUV_8hj40q0s"
      },
      "source": [
        "## Exercise 3 (Matrices Manipulation)\n",
        "\n",
        "### Part 1: Understanding Matrices\n",
        "\n",
        "1. Create a 3×3 matrix with values from 1 to 9. Represent it as a list of lists:\n",
        "\n",
        "   ```python\n",
        "   matrix = [\n",
        "       [1, 2, 3],\n",
        "       [4, 5, 6],\n",
        "       [7, 8, 9]\n",
        "   ]\n",
        "   ```\n",
        "2. Transpose the matrix by swapping rows and columns.\n",
        "\n",
        "###  Part 2: Matrices Slicing Operations\n",
        "\n",
        "1. Use slicing to extract the first row of the matrix.\n",
        "\n",
        "2. Use a list comprehension to extract the first column of the matrix.\n",
        "\n",
        "3. Use slicing to create a new matrix that contains only the last two rows of the original matrix.\n",
        "\n",
        "4. Use slicing to reverse the order of rows in the matrix.\n",
        "\n",
        "5. Use a list comprehension to extract the middle column from the matrix.\n",
        "\n"
      ]
    },
    {
      "cell_type": "code",
      "execution_count": 2,
      "metadata": {},
      "outputs": [
        {
          "name": "stdout",
          "output_type": "stream",
          "text": [
            "[[0, 1, 2], [0, 1, 2], [0, 1, 2]]\n"
          ]
        }
      ],
      "source": [
        "Matrix = []\n",
        "rows = 3\n",
        "cols = 3\n",
        "for i in range(rows):\n",
        "    rows_list = []\n",
        "    for j in range(cols):\n",
        "        rows_list.append(j)\n",
        "    Matrix.append(rows_list)\n",
        "print(Matrix)"
      ]
    },
    {
      "cell_type": "code",
      "execution_count": 3,
      "metadata": {},
      "outputs": [
        {
          "name": "stdout",
          "output_type": "stream",
          "text": [
            "1\n",
            "2\n",
            "3\n",
            "4\n",
            "5\n",
            "6\n",
            "7\n",
            "8\n",
            "9\n"
          ]
        }
      ],
      "source": [
        "m = [[i * cols + j +1 for j in range(cols)] for i in range(rows)]\n",
        "for M in m:\n",
        "    for N in M:\n",
        "        print(N)"
      ]
    },
    {
      "cell_type": "code",
      "execution_count": 4,
      "metadata": {},
      "outputs": [
        {
          "name": "stdout",
          "output_type": "stream",
          "text": [
            "[[1, 4, 7], [2, 5, 8], [3, 6, 9]]\n"
          ]
        }
      ],
      "source": [
        "transposed_matrix = [[row[i] for row in m] for i in range(cols)]\n",
        "print(transposed_matrix)"
      ]
    },
    {
      "cell_type": "markdown",
      "metadata": {
        "id": "WmpsQQxD0Bkz"
      },
      "source": [
        "## Exercise 4: Sets and Dictionaries\n",
        "\n",
        "### Part 1: Sets\n",
        "- Given the list `L = [3, 5, 3, 8, 5, 3, 8, 8, 10]`, create a set from `L`.\n",
        "- Add the value `12` to the set.\n",
        "- Remove the value `3` from the set.\n",
        "- Check if the value `8` exists in the set.\n",
        "\n",
        "### Part 2: Dictionaries\n",
        "- Using the same list `L = [3, 5, 3, 8, 5, 3, 8, 8, 10]`, create a dictionary from `L` that maps each unique number to its frequency.\n",
        "- Print the dictionary to show the frequency of each number.\n",
        "- Find the most frequently occurring number.\n",
        "- Find the least frequently occurring number.\n",
        "- Check if the number `7` exists in the dictionary as a key.\n",
        "- Add a new value `12` to `L`, update the dictionary accordingly, and print the updated dictionary.\n",
        "\n",
        "\n"
      ]
    },
    {
      "cell_type": "code",
      "execution_count": 5,
      "metadata": {},
      "outputs": [
        {
          "name": "stdout",
          "output_type": "stream",
          "text": [
            "{3: 3, 5: 2, 8: 3, 10: 1}\n"
          ]
        }
      ],
      "source": [
        "L = [3,5,3,8,5,3,8,8,10]\n",
        "my_dict = {x:L.count(x) for x in L}\n",
        "print(my_dict)"
      ]
    },
    {
      "cell_type": "code",
      "execution_count": 6,
      "metadata": {},
      "outputs": [
        {
          "name": "stdout",
          "output_type": "stream",
          "text": [
            "3\n"
          ]
        }
      ],
      "source": [
        "print(max(my_dict ,key= my_dict.get))"
      ]
    },
    {
      "cell_type": "code",
      "execution_count": 7,
      "metadata": {},
      "outputs": [
        {
          "name": "stdout",
          "output_type": "stream",
          "text": [
            "False\n"
          ]
        }
      ],
      "source": [
        "print(7 in my_dict.keys())"
      ]
    },
    {
      "cell_type": "markdown",
      "metadata": {
        "id": "PrNpm3-wqgH3"
      },
      "source": [
        "## Exercise 5: Strings Manipulation\n",
        "\n",
        "Given the sentence `\"Python programming is fun!\"`, perform the following:\n",
        "- Extract the substring \"programming\" from the string using slicing.\n",
        "- Convert the string to lowercase.\n",
        "- Replace the word \"programming\" with \"coding\" in the string.\n",
        "- Check if the string starts with \"Python\".\n",
        "- Split the string into a list of words using the `split()` method.\n",
        "- Join the list of words back into a single string with spaces in between.\n",
        "- Use slicing to reverse the string.\n",
        "- Check if the string contains the substring \"coding\"."
      ]
    },
    {
      "cell_type": "code",
      "execution_count": 8,
      "metadata": {},
      "outputs": [
        {
          "name": "stdout",
          "output_type": "stream",
          "text": [
            "My name is ala eddine\n"
          ]
        }
      ],
      "source": [
        "my_str = \"My name is ala eddine mezdoud\"\n",
        "words = my_str.split(\" \")\n",
        "name = \" \".join(words[:5])\n",
        "print(name)"
      ]
    },
    {
      "cell_type": "markdown",
      "metadata": {
        "id": "pReljd7-3SiB"
      },
      "source": [
        "## Exercise 6: Functions and Modules\n",
        "\n",
        "- Write a function that takes two numbers as arguments and returns their sum.\n",
        "- Write a function that takes a list of numbers and returns the maximum value.\n",
        "- Write a function that takes a string and returns the number of vowels in it.\n",
        "- Write a function that uses `sqrt()` from the `math` module to calculate the square root of any given number.\n",
        "- Write a function that accepts an arbitrary number of keyword arguments and prints them.\n",
        "- Create a custom module named `my_module.py` with a function `greet()` that prints `\"Hello, World!\"` and save it in the same directory as the notebook. After that import and use this function in a notebook.\n",
        "\n"
      ]
    },
    {
      "cell_type": "code",
      "execution_count": 9,
      "metadata": {},
      "outputs": [
        {
          "name": "stdout",
          "output_type": "stream",
          "text": [
            "8\n"
          ]
        }
      ],
      "source": [
        "def number_of_vowels(str):\n",
        "    count = [x for x in str if x in \"aeiou\"]\n",
        "    return len(count)\n",
        "print(number_of_vowels(name))"
      ]
    },
    {
      "cell_type": "code",
      "execution_count": 10,
      "metadata": {},
      "outputs": [
        {
          "name": "stdout",
          "output_type": "stream",
          "text": [
            "name: mezdoud ala eddine\n",
            "age: 22\n",
            "city: New York\n"
          ]
        }
      ],
      "source": [
        "def print_kwargs(**word):\n",
        "    for key,value in word.items():\n",
        "        print(f\"{key}: {value}\")\n",
        "    \n",
        "print_kwargs(name=\"mezdoud ala eddine\",age=22,city=\"New York\")"
      ]
    },
    {
      "cell_type": "markdown",
      "metadata": {
        "id": "WvOAMSqF3ZB_"
      },
      "source": [
        "## Exercise 7: Object-Oriented Programming\n",
        "\n",
        "- Create a class named `Person` with attributes `name` and `age`. Add a method `introduce()` that prints `\"Hello, my name is [name] and I am [age] years old.\"`\n",
        "- Add a `@property` decorator to the `Person` class to create a read-only attribute `birth_year` that calculates the birth year based on the current year.\n",
        "- Create a subclass `Student` that inherits from `Person` and adds an attribute `major`. Override the `introduce()` method to include the major.\n",
        "- Add a `@classmethod` to the `Person` class that creates a `Person` object from a birth year.\n",
        "- Add a `@staticmethod` to the `Person` class that checks if a given year is a leap year.\n",
        "- Create a class `Vector` with attributes `x` and `y`. Override the `__add__` method to add two `Vector` objects.\n",
        "- Override the `__str__` method in the `Vector` class to print the vector in the format `\"Vector(x, y)\"`.\n",
        "- Create a class `GameCharacter` with attributes `name`, `health`, and `strength`. Add methods `attack()` and `defend()`.\n",
        "- Create a subclass `Villain` that inherits from `GameCharacter` and adds an attribute `evilness`. Override the `attack()` method to include an evil laugh.\n",
        "\n"
      ]
    },
    {
      "cell_type": "code",
      "execution_count": 11,
      "metadata": {},
      "outputs": [
        {
          "name": "stdout",
          "output_type": "stream",
          "text": [
            "hello my name is ala eddine and my age is 22\n"
          ]
        }
      ],
      "source": [
        "from datetime import datetime\n",
        "class Person:\n",
        "    def __init__(self,name,age):\n",
        "        self.name = name\n",
        "        self.age = age\n",
        "    \n",
        "    def introduce(self):\n",
        "        print(f\"hello my name is {self.name} and my age is {self.age}\")\n",
        "    \n",
        "    @property\n",
        "    def birth_year(self):\n",
        "        date = datetime.now().year\n",
        "        return date - self.age\n",
        "    \n",
        "    @classmethod\n",
        "    def from_birthday(cls,name,birthday):\n",
        "        current_year = datetime.now().year\n",
        "        age = current_year - birthday\n",
        "        return cls(name,age)\n",
        "    \n",
        "ala = Person.from_birthday(\"ala eddine\",2003)\n",
        "ala.introduce()"
      ]
    },
    {
      "cell_type": "markdown",
      "metadata": {
        "id": "7DbFVTRR3WCQ"
      },
      "source": [
        "## Exercise 8: File Handling\n",
        "\n",
        "1. Write a program to read a text file (`example.txt`) and print its contents.\n",
        "2. Modify your program to include exception handling. Use a `try`/`except` block to handle cases where the file might not exist or cannot be opened.\n",
        "3. Write a program to write the string `\"Hello, File!\"` to a new file (`output.txt`).\n",
        "4. Write a program to append the string `\"This is a new line.\"` to an existing file (`output.txt`).\n",
        "5. Use the `json` module to write a dictionary `{ \"name\": \"Alice\", \"age\": 25 }` to a JSON file (`data.json`).\n",
        "6. Use the `json` module to read the JSON file (`data.json`) and print its contents.\n",
        "7. Use the `pickle` module to serialize a list `[1, 2, 3, 4, 5]` and save it to a file (`data.pkl`).\n",
        "8. Use the `pickle` module to deserialize the list from the file (`data.pkl`) and print it.\n",
        "9. Use the `csv` module to read a CSV file (`students.csv`) and print each row as a dictionary.\n",
        "10. Use the `csv` module to write a list of dictionaries `[ {\"name\": \"Alice\", \"age\": 25}, {\"name\": \"Bob\", \"age\": 30} ]` to a CSV file (`output.csv`).\n",
        "\n",
        "\n"
      ]
    },
    {
      "cell_type": "code",
      "execution_count": null,
      "metadata": {},
      "outputs": [],
      "source": []
    },
    {
      "cell_type": "markdown",
      "metadata": {
        "id": "TIJHpUO03bPh"
      },
      "source": [
        "## Exercise 9: Advanced Topics\n",
        "\n",
        "- Write a decorator `@timer` that measures the time taken to execute a function.\n",
        "- Use a generator to create a sequence of Fibonacci numbers up to `100`.\n",
        "- Write a lambda function that takes two numbers and returns their product.\n",
        "- Use the `map()` function to apply a lambda function that squares each element in a list `[1, 2, 3, 4, 5]`.\n",
        "- Use the `filter()` function to filter out even numbers from a list `[1, 2, 3, 4, 5, 6, 7, 8, 9]`.\n",
        "- Use the `reduce()` function from the `functools` module to calculate the product of all numbers in a list `[1, 2, 3, 4, 5]`.\n",
        "- Write a context manager using the `with` statement to handle file operations.\n",
        "- Use the `itertools` module to generate all permutations of the list `[1, 2, 3]`.\n",
        "- Write a recursive function to calculate the factorial of a number."
      ]
    },
    {
      "cell_type": "code",
      "execution_count": null,
      "metadata": {
        "id": "_YjY-3Qk3b2n"
      },
      "outputs": [],
      "source": []
    }
  ],
  "metadata": {
    "colab": {
      "provenance": []
    },
    "kernelspec": {
      "display_name": "base",
      "language": "python",
      "name": "python3"
    },
    "language_info": {
      "codemirror_mode": {
        "name": "ipython",
        "version": 3
      },
      "file_extension": ".py",
      "mimetype": "text/x-python",
      "name": "python",
      "nbconvert_exporter": "python",
      "pygments_lexer": "ipython3",
      "version": "3.13.5"
    }
  },
  "nbformat": 4,
  "nbformat_minor": 0
}
