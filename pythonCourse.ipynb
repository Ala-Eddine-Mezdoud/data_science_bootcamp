{
  "cells": [
    {
      "cell_type": "markdown",
      "metadata": {
        "id": "aU7VVeTy3fJ_"
      },
      "source": [
        "##Lab 2: Introduction to Python\n",
        "In this lab, we will introduce basic Python concepts that are essential for students to understand and successfully follow the upcoming Introduction to AI lab sheets."
      ]
    },
    {
      "cell_type": "markdown",
      "metadata": {
        "id": "5YsEAIR215TE"
      },
      "source": [
        "## Exercise 1: Control Flow and Loops\n",
        "\n",
        "1. Write a `for` loop to print numbers from 1 to 10 using `range()`.\n",
        "2. Write a `while` loop to print numbers from 1 to 10.\n",
        "3. Use an `if-else` statement to print only the even numbers between 1 and 10.\n",
        "4. Given a list `L` containing numbers from 1 to 10, use a `for` loop with `enumerate()` to print both the index and value of each element in the list.\n",
        "5. Use a list comprehension to create a new list `L2` containing the squares of the numbers in list `L1`.\n",
        "6. Use a `for` loop with `zip()` to iterate over lists `L1` and `L2` simultaneously, and print each number along with its square.\n",
        "7. Use a nested loop to print a multiplication table for numbers 1 through 5.\n",
        "\n",
        "\n"
      ]
    },
    {
      "cell_type": "code",
      "execution_count": 2,
      "metadata": {
        "id": "zc8b8gNL5J-B"
      },
      "outputs": [
        {
          "name": "stdout",
          "output_type": "stream",
          "text": [
            "counting 1\n",
            "counting 2\n",
            "counting 3\n",
            "counting 4\n",
            "counting 5\n",
            "counting 6\n",
            "counting 7\n",
            "counting 8\n",
            "counting 9\n",
            "counting 10\n"
          ]
        }
      ],
      "source": [
        "for i in range(1,11):\n",
        "    print(f\"counting {i}\")"
      ]
    },
    {
      "cell_type": "code",
      "execution_count": 7,
      "metadata": {},
      "outputs": [
        {
          "name": "stdout",
          "output_type": "stream",
          "text": [
            "counting 1\n",
            "counting 2\n",
            "counting 3\n",
            "counting 4\n",
            "counting 5\n",
            "counting 6\n",
            "counting 7\n",
            "counting 8\n",
            "counting 9\n",
            "counting 10\n"
          ]
        }
      ],
      "source": [
        "i = 1\n",
        "while i < 11 :\n",
        "    print(f\"counting {i}\")\n",
        "    i += 1"
      ]
    },
    {
      "cell_type": "code",
      "execution_count": 9,
      "metadata": {},
      "outputs": [
        {
          "name": "stdout",
          "output_type": "stream",
          "text": [
            "counting 2\n",
            "counting 4\n",
            "counting 6\n",
            "counting 8\n",
            "counting 10\n"
          ]
        }
      ],
      "source": [
        "for i in range(1,11):\n",
        "    if i % 2 == 0 :\n",
        "        print(f\"counting {i}\")"
      ]
    },
    {
      "cell_type": "code",
      "execution_count": 16,
      "metadata": {},
      "outputs": [
        {
          "name": "stdout",
          "output_type": "stream",
          "text": [
            "[1, 2, 3, 4, 5, 6, 7, 8, 9, 10]\n",
            "element 1 at index 0\n",
            "element 2 at index 1\n",
            "element 3 at index 2\n",
            "element 4 at index 3\n",
            "element 5 at index 4\n",
            "element 6 at index 5\n",
            "element 7 at index 6\n",
            "element 8 at index 7\n",
            "element 9 at index 8\n",
            "element 10 at index 9\n"
          ]
        }
      ],
      "source": [
        "L = [x for x in range(1, 11)]\n",
        "print(L)\n",
        "\n",
        "for index,element in enumerate(L):\n",
        "    print(f\"element {element} at index {index}\")"
      ]
    },
    {
      "cell_type": "code",
      "execution_count": 18,
      "metadata": {},
      "outputs": [
        {
          "name": "stdout",
          "output_type": "stream",
          "text": [
            "[1, 4, 9, 16, 25, 36, 49, 64, 81, 100]\n"
          ]
        }
      ],
      "source": [
        "L2 = [x**2 for x in L]\n",
        "print(L2)"
      ]
    },
    {
      "cell_type": "code",
      "execution_count": 20,
      "metadata": {},
      "outputs": [
        {
          "name": "stdout",
          "output_type": "stream",
          "text": [
            "the square of 1 is 1\n",
            "the square of 2 is 4\n",
            "the square of 3 is 9\n",
            "the square of 4 is 16\n",
            "the square of 5 is 25\n",
            "the square of 6 is 36\n",
            "the square of 7 is 49\n",
            "the square of 8 is 64\n",
            "the square of 9 is 81\n",
            "the square of 10 is 100\n"
          ]
        }
      ],
      "source": [
        "for number,number_square in zip(L,L2):\n",
        "    print(f\"the square of {number} is {number_square}\")"
      ]
    },
    {
      "cell_type": "code",
      "execution_count": 23,
      "metadata": {},
      "outputs": [
        {
          "name": "stdout",
          "output_type": "stream",
          "text": [
            "1 x 1 = 1\n",
            "1 x 2 = 2\n",
            "1 x 3 = 3\n",
            "1 x 4 = 4\n",
            "1 x 5 = 5\n",
            "\n",
            "2 x 1 = 2\n",
            "2 x 2 = 4\n",
            "2 x 3 = 6\n",
            "2 x 4 = 8\n",
            "2 x 5 = 10\n",
            "\n",
            "3 x 1 = 3\n",
            "3 x 2 = 6\n",
            "3 x 3 = 9\n",
            "3 x 4 = 12\n",
            "3 x 5 = 15\n",
            "\n",
            "4 x 1 = 4\n",
            "4 x 2 = 8\n",
            "4 x 3 = 12\n",
            "4 x 4 = 16\n",
            "4 x 5 = 20\n",
            "\n",
            "5 x 1 = 5\n",
            "5 x 2 = 10\n",
            "5 x 3 = 15\n",
            "5 x 4 = 20\n",
            "5 x 5 = 25\n",
            "\n"
          ]
        }
      ],
      "source": [
        "for i in range(1,6):\n",
        "    for j in range (1,6):\n",
        "        print(f\"{i} x {j} = {i*j}\")\n",
        "    print()"
      ]
    },
    {
      "cell_type": "markdown",
      "metadata": {
        "id": "tl5ZFm8-FIiw"
      },
      "source": [
        "## Exercise 2 (Lists)\n",
        "\n",
        "### Part 1: Basic List Operations\n",
        "\n",
        "1. Create a list L1 containing the values `[1, 2, 3, 4, 5]`.\n",
        "\n",
        "2. Append `11` to the end, insert `0` at the beginning, and remove the number `3` from L1.\n",
        "\n",
        "3. Create another list `L2` containing integers from 1 to 10 using `range`.\n",
        "\n",
        "4. Create a list L3 containing the concatenation of the two lists L1 and L2.\n",
        "\n",
        "5. Reverse the order of L3 using list functions.\n",
        "\n",
        "6. Create another list `even` containing only even numbers from L3 using `list comprehension`.\n",
        "\n",
        "7. Create another list `odd` containing only odd numbers from L3 that are  between 2 and 8 (inclusive) using `list comprehension`.\n",
        "\n",
        "###  Part 2: Basic Slicing Operations\n",
        "\n",
        "1. Use slicing to extract the first three elements from L3.\n",
        "\n",
        "2. Use slicing to extract the last two elements from L3.\n",
        "\n",
        "3. Use slicing to create a list L4 that contains every other element from L3 starting with the first one, using slicing. For example, given the list s = [10, 20, 30, 40, 50, 60, 70, 80]. The result should be: [10, 30, 50, 70].\n",
        "\n",
        "4. Use slicing to create a list L5 that contains every other element from L3 starting from the end, using slicing. For example, given the list s = [10, 20, 30, 40, 50, 60, 70, 80]. The result should be: [80, 60, 40, 20].\n",
        "\n",
        "5. Use slicing to reverse the list."
      ]
    },
    {
      "cell_type": "code",
      "execution_count": 24,
      "metadata": {
        "id": "Umu606FT0piD"
      },
      "outputs": [],
      "source": [
        "## Part one"
      ]
    },
    {
      "cell_type": "code",
      "execution_count": 31,
      "metadata": {},
      "outputs": [
        {
          "name": "stdout",
          "output_type": "stream",
          "text": [
            "[1, 2, 3, 4, 5]\n"
          ]
        }
      ],
      "source": [
        "L1 = [x for x in range(1,6)]\n",
        "print(L1)"
      ]
    },
    {
      "cell_type": "code",
      "execution_count": 32,
      "metadata": {},
      "outputs": [
        {
          "name": "stdout",
          "output_type": "stream",
          "text": [
            "[0, 1, 2, 4, 5, 11]\n"
          ]
        }
      ],
      "source": [
        "L1.append(11)\n",
        "L1.insert(0,0)\n",
        "L1.remove(3)\n",
        "print(L1)"
      ]
    },
    {
      "cell_type": "code",
      "execution_count": 35,
      "metadata": {},
      "outputs": [
        {
          "name": "stdout",
          "output_type": "stream",
          "text": [
            "[0, 1, 2, 4, 5, 11, 1, 2, 3, 4, 5, 6, 7, 8, 9, 10]\n"
          ]
        }
      ],
      "source": [
        "L2 = [x for x in range(1,11)]\n",
        "L3 = L1 + L2\n",
        "print(L3)"
      ]
    },
    {
      "cell_type": "code",
      "execution_count": 40,
      "metadata": {},
      "outputs": [
        {
          "name": "stdout",
          "output_type": "stream",
          "text": [
            "[10, 9, 8, 7, 6, 5, 4, 3, 2, 1, 11, 5, 4, 2, 1, 0]\n"
          ]
        }
      ],
      "source": [
        "L3.reverse()\n",
        "print(L3)"
      ]
    },
    {
      "cell_type": "code",
      "execution_count": 43,
      "metadata": {},
      "outputs": [
        {
          "name": "stdout",
          "output_type": "stream",
          "text": [
            "[9, 7, 5, 3, 1, 11, 5, 1]\n"
          ]
        }
      ],
      "source": [
        "even = [x for x in L3 if x % 2 != 0]\n",
        "print(even)"
      ]
    },
    {
      "cell_type": "code",
      "execution_count": 45,
      "metadata": {},
      "outputs": [
        {
          "name": "stdout",
          "output_type": "stream",
          "text": [
            "[8, 6, 4, 2, 4, 2]\n"
          ]
        }
      ],
      "source": [
        "odd = [x for x in L3 if x % 2 == 0 and x in range(2,9)]\n",
        "print(odd)"
      ]
    },
    {
      "cell_type": "code",
      "execution_count": 46,
      "metadata": {},
      "outputs": [],
      "source": [
        "## Part Two"
      ]
    },
    {
      "cell_type": "code",
      "execution_count": 51,
      "metadata": {},
      "outputs": [
        {
          "name": "stdout",
          "output_type": "stream",
          "text": [
            "the first three elements from L3: [10, 9, 8]\n",
            "the last two elements from L3: [1, 0]\n"
          ]
        }
      ],
      "source": [
        "print(\"the first three elements from L3: \",end=\"\")\n",
        "print(L3[:3])\n",
        "\n",
        "print(\"the last two elements from L3: \",end=\"\")\n",
        "print(L3[-2:])"
      ]
    },
    {
      "cell_type": "code",
      "execution_count": 53,
      "metadata": {},
      "outputs": [
        {
          "name": "stdout",
          "output_type": "stream",
          "text": [
            "[10, 8, 6, 4, 2, 11, 4, 1]\n"
          ]
        }
      ],
      "source": [
        "L4 = [x for x in L3[::2]]\n",
        "print(L4)"
      ]
    },
    {
      "cell_type": "code",
      "execution_count": 55,
      "metadata": {},
      "outputs": [
        {
          "name": "stdout",
          "output_type": "stream",
          "text": [
            "[0, 2, 5, 1, 3, 5, 7, 9]\n"
          ]
        }
      ],
      "source": [
        "L5 = [x for x in L3[::-2]]\n",
        "print(L5)"
      ]
    },
    {
      "cell_type": "code",
      "execution_count": 56,
      "metadata": {},
      "outputs": [
        {
          "name": "stdout",
          "output_type": "stream",
          "text": [
            "[0, 1, 2, 4, 5, 11, 1, 2, 3, 4, 5, 6, 7, 8, 9, 10]\n"
          ]
        }
      ],
      "source": [
        "print(L3[::-1])"
      ]
    },
    {
      "cell_type": "markdown",
      "metadata": {
        "id": "pUV_8hj40q0s"
      },
      "source": [
        "## Exercise 3 (Matrices Manipulation)\n",
        "\n",
        "### Part 1: Understanding Matrices\n",
        "\n",
        "1. Create a 3×3 matrix with values from 1 to 9. Represent it as a list of lists:\n",
        "\n",
        "   ```python\n",
        "   matrix = [\n",
        "       [1, 2, 3],\n",
        "       [4, 5, 6],\n",
        "       [7, 8, 9]\n",
        "   ]\n",
        "   ```\n",
        "2. Transpose the matrix by swapping rows and columns.\n",
        "\n",
        "###  Part 2: Matrices Slicing Operations\n",
        "\n",
        "1. Use slicing to extract the first row of the matrix.\n",
        "\n",
        "2. Use a list comprehension to extract the first column of the matrix.\n",
        "\n",
        "3. Use slicing to create a new matrix that contains only the last two rows of the original matrix.\n",
        "\n",
        "4. Use slicing to reverse the order of rows in the matrix.\n",
        "\n",
        "5. Use a list comprehension to extract the middle column from the matrix.\n",
        "\n"
      ]
    },
    {
      "cell_type": "code",
      "execution_count": 72,
      "metadata": {},
      "outputs": [],
      "source": [
        "## Part One"
      ]
    },
    {
      "cell_type": "code",
      "execution_count": 70,
      "metadata": {
        "id": "3vHTZEAL0rl8"
      },
      "outputs": [
        {
          "name": "stdout",
          "output_type": "stream",
          "text": [
            "original matrix [[1, 2, 3], [4, 5, 6], [7, 8, 9]]\n",
            "transposed matrix [[1, 4, 7], [2, 5, 8], [3, 6, 9]]\n"
          ]
        }
      ],
      "source": [
        "cols = 3\n",
        "rows = 3\n",
        "\n",
        "matrix = [[i * cols +j +1 for j in range(cols)] for i in range(rows)]\n",
        "print(f\"original matrix {matrix}\")\n",
        "\n",
        "transposed_matrix = [[row[i] for row in matrix] for i in range(cols)]\n",
        "print(f\"transposed matrix {transposed_matrix}\")"
      ]
    },
    {
      "cell_type": "code",
      "execution_count": 71,
      "metadata": {},
      "outputs": [],
      "source": [
        "## Part Two"
      ]
    },
    {
      "cell_type": "code",
      "execution_count": 75,
      "metadata": {},
      "outputs": [
        {
          "name": "stdout",
          "output_type": "stream",
          "text": [
            "first row: [[1, 2, 3]]\n"
          ]
        }
      ],
      "source": [
        "print(f\"first row: {matrix[:1]}\")"
      ]
    },
    {
      "cell_type": "code",
      "execution_count": 78,
      "metadata": {},
      "outputs": [
        {
          "name": "stdout",
          "output_type": "stream",
          "text": [
            "[1, 4, 7]\n"
          ]
        }
      ],
      "source": [
        "l = [row[0] for row in matrix]\n",
        "print(l)"
      ]
    },
    {
      "cell_type": "code",
      "execution_count": 80,
      "metadata": {},
      "outputs": [
        {
          "name": "stdout",
          "output_type": "stream",
          "text": [
            "[[4, 5, 6], [7, 8, 9]]\n"
          ]
        }
      ],
      "source": [
        "last_two_rows_matrix = matrix[-2:]\n",
        "print(last_two_rows_matrix)"
      ]
    },
    {
      "cell_type": "code",
      "execution_count": 81,
      "metadata": {},
      "outputs": [
        {
          "name": "stdout",
          "output_type": "stream",
          "text": [
            "[[7, 8, 9], [4, 5, 6], [1, 2, 3]]\n"
          ]
        }
      ],
      "source": [
        "print(matrix[::-1])"
      ]
    },
    {
      "cell_type": "code",
      "execution_count": 82,
      "metadata": {},
      "outputs": [
        {
          "name": "stdout",
          "output_type": "stream",
          "text": [
            "[2, 5, 8]\n"
          ]
        }
      ],
      "source": [
        "middle_col = [row[len(row)//2] for row in matrix]\n",
        "print(middle_col)"
      ]
    },
    {
      "cell_type": "markdown",
      "metadata": {
        "id": "WmpsQQxD0Bkz"
      },
      "source": [
        "## Exercise 4: Sets and Dictionaries\n",
        "\n",
        "### Part 1: Sets\n",
        "- Given the list `L = [3, 5, 3, 8, 5, 3, 8, 8, 10]`, create a set from `L`.\n",
        "- Add the value `12` to the set.\n",
        "- Remove the value `3` from the set.\n",
        "- Check if the value `8` exists in the set.\n",
        "\n",
        "### Part 2: Dictionaries\n",
        "- Using the same list `L = [3, 5, 3, 8, 5, 3, 8, 8, 10]`, create a dictionary from `L` that maps each unique number to its frequency.\n",
        "- Print the dictionary to show the frequency of each number.\n",
        "- Find the most frequently occurring number.\n",
        "- Find the least frequently occurring number.\n",
        "- Check if the number `7` exists in the dictionary as a key.\n",
        "- Add a new value `12` to `L`, update the dictionary accordingly, and print the updated dictionary.\n",
        "\n",
        "\n"
      ]
    },
    {
      "cell_type": "code",
      "execution_count": 104,
      "metadata": {},
      "outputs": [],
      "source": [
        "## Sets"
      ]
    },
    {
      "cell_type": "code",
      "execution_count": 102,
      "metadata": {
        "id": "qR0FlmYd14zA"
      },
      "outputs": [
        {
          "name": "stdout",
          "output_type": "stream",
          "text": [
            "{8, 10, 3, 5}\n"
          ]
        }
      ],
      "source": [
        "L = [3,5,3,8,5,3,8,8,10]\n",
        "my_set = set(L)\n",
        "\n",
        "print(my_set)"
      ]
    },
    {
      "cell_type": "code",
      "execution_count": 103,
      "metadata": {},
      "outputs": [
        {
          "name": "stdout",
          "output_type": "stream",
          "text": [
            "{5, 8, 10, 12}\n",
            "True\n"
          ]
        }
      ],
      "source": [
        "my_set.add(12)\n",
        "my_set.remove(3)\n",
        "print(my_set)\n",
        "\n",
        "print(8 in my_set)"
      ]
    },
    {
      "cell_type": "code",
      "execution_count": 106,
      "metadata": {},
      "outputs": [],
      "source": [
        "## Dictionary"
      ]
    },
    {
      "cell_type": "code",
      "execution_count": 109,
      "metadata": {},
      "outputs": [
        {
          "name": "stdout",
          "output_type": "stream",
          "text": [
            "{8: 3, 10: 1, 3: 3, 5: 2}\n"
          ]
        }
      ],
      "source": [
        "frequency_dict = {x: L.count(x) for x in set(L)}\n",
        "print(frequency_dict)"
      ]
    },
    {
      "cell_type": "code",
      "execution_count": null,
      "metadata": {},
      "outputs": [
        {
          "name": "stdout",
          "output_type": "stream",
          "text": [
            "the most frequent number: 8\n"
          ]
        }
      ],
      "source": [
        "print(\"the most frequent number: \",end=\"\")\n",
        "print(max(frequency_dict,key=frequency_dict.get))"
      ]
    },
    {
      "cell_type": "code",
      "execution_count": 124,
      "metadata": {},
      "outputs": [
        {
          "name": "stdout",
          "output_type": "stream",
          "text": [
            "the least frequent number: 10\n"
          ]
        }
      ],
      "source": [
        "least_frequent_number = min(frequency_dict,key=frequency_dict.get)\n",
        "print(f\"the least frequent number: {least_frequent_number}\")"
      ]
    },
    {
      "cell_type": "code",
      "execution_count": 129,
      "metadata": {},
      "outputs": [
        {
          "name": "stdout",
          "output_type": "stream",
          "text": [
            "False\n"
          ]
        }
      ],
      "source": [
        "print(7 in frequency_dict.keys())"
      ]
    },
    {
      "cell_type": "code",
      "execution_count": 130,
      "metadata": {},
      "outputs": [],
      "source": [
        "L.append(12)"
      ]
    },
    {
      "cell_type": "code",
      "execution_count": 131,
      "metadata": {},
      "outputs": [
        {
          "name": "stdout",
          "output_type": "stream",
          "text": [
            "{3: 3, 5: 2, 8: 3, 10: 1, 12: 1}\n"
          ]
        }
      ],
      "source": [
        "frequency_dict = {x: L.count(x) for x in L}\n",
        "print(frequency_dict)"
      ]
    },
    {
      "cell_type": "markdown",
      "metadata": {
        "id": "PrNpm3-wqgH3"
      },
      "source": [
        "## Exercise 5: Strings Manipulation\n",
        "\n",
        "Given the sentence `\"Python programming is fun!\"`, perform the following:\n",
        "- Extract the substring \"programming\" from the string using slicing.\n",
        "- Convert the string to lowercase.\n",
        "- Replace the word \"programming\" with \"coding\" in the string.\n",
        "- Check if the string starts with \"Python\".\n",
        "- Split the string into a list of words using the `split()` method.\n",
        "- Join the list of words back into a single string with spaces in between.\n",
        "- Use slicing to reverse the string.\n",
        "- Check if the string contains the substring \"coding\"."
      ]
    },
    {
      "cell_type": "code",
      "execution_count": 2,
      "metadata": {
        "id": "bUB5hXOr0BFH"
      },
      "outputs": [
        {
          "name": "stdout",
          "output_type": "stream",
          "text": [
            "programming\n"
          ]
        }
      ],
      "source": [
        "my_str = \"Python programming is fun!\"\n",
        "print(my_str[7:len(\"programming\") + 7])"
      ]
    },
    {
      "cell_type": "code",
      "execution_count": 3,
      "metadata": {},
      "outputs": [
        {
          "name": "stdout",
          "output_type": "stream",
          "text": [
            "python programming is fun!\n",
            "python coding is fun!\n"
          ]
        }
      ],
      "source": [
        "my_str = my_str.lower()\n",
        "print(my_str)\n",
        "\n",
        "my_str = my_str.replace(\"programming\", \"coding\")\n",
        "print(my_str)"
      ]
    },
    {
      "cell_type": "code",
      "execution_count": 4,
      "metadata": {},
      "outputs": [
        {
          "name": "stdout",
          "output_type": "stream",
          "text": [
            "True\n"
          ]
        }
      ],
      "source": [
        "print(my_str.find(\"python\") == 0)"
      ]
    },
    {
      "cell_type": "code",
      "execution_count": 6,
      "metadata": {},
      "outputs": [
        {
          "name": "stdout",
          "output_type": "stream",
          "text": [
            "['python', 'coding', 'is', 'fun!']\n",
            "python coding is fun!\n"
          ]
        }
      ],
      "source": [
        "words = my_str.split(\" \")\n",
        "print(words)\n",
        "\n",
        "joined_string = \" \".join(words)\n",
        "print(joined_string)"
      ]
    },
    {
      "cell_type": "code",
      "execution_count": 164,
      "metadata": {},
      "outputs": [
        {
          "name": "stdout",
          "output_type": "stream",
          "text": [
            "reversed: !nuf si gnidoc nohtyp\n"
          ]
        }
      ],
      "source": [
        "print(f\"reversed: {my_str[::-1]}\")"
      ]
    },
    {
      "cell_type": "code",
      "execution_count": 165,
      "metadata": {},
      "outputs": [
        {
          "name": "stdout",
          "output_type": "stream",
          "text": [
            "True\n"
          ]
        }
      ],
      "source": [
        "print(\"coding\" in my_str)"
      ]
    },
    {
      "cell_type": "markdown",
      "metadata": {
        "id": "pReljd7-3SiB"
      },
      "source": [
        "## Exercise 6: Functions and Modules\n",
        "\n",
        "- Write a function that takes two numbers as arguments and returns their sum.\n",
        "- Write a function that takes a list of numbers and returns the maximum value.\n",
        "- Write a function that takes a string and returns the number of vowels in it.\n",
        "- Write a function that uses `sqrt()` from the `math` module to calculate the square root of any given number.\n",
        "- Write a function that accepts an arbitrary number of keyword arguments and prints them.\n",
        "- Create a custom module named `my_module.py` with a function `greet()` that prints `\"Hello, World!\"` and save it in the same directory as the notebook. After that import and use this function in a notebook.\n",
        "\n"
      ]
    },
    {
      "cell_type": "code",
      "execution_count": 168,
      "metadata": {
        "id": "j8zCtXOE3VnR"
      },
      "outputs": [
        {
          "name": "stdout",
          "output_type": "stream",
          "text": [
            "4\n"
          ]
        }
      ],
      "source": [
        "def sum (a,b):\n",
        "    return a + b\n",
        "\n",
        "print(sum(2,2))"
      ]
    },
    {
      "cell_type": "code",
      "execution_count": null,
      "metadata": {},
      "outputs": [
        {
          "name": "stdout",
          "output_type": "stream",
          "text": [
            "12\n"
          ]
        }
      ],
      "source": [
        "def find_max(lst):\n",
        "    return max(lst)\n",
        "\n",
        "# Example usage\n",
        "print(find_max(L))  "
      ]
    },
    {
      "cell_type": "code",
      "execution_count": 15,
      "metadata": {},
      "outputs": [
        {
          "name": "stdout",
          "output_type": "stream",
          "text": [
            "5\n"
          ]
        }
      ],
      "source": [
        "def number_of_vowels(str):\n",
        "\n",
        "    count = [x for x in str if x in 'aeiou']\n",
        "    return len(count)\n",
        "\n",
        "print(number_of_vowels(my_str))"
      ]
    },
    {
      "cell_type": "code",
      "execution_count": 20,
      "metadata": {},
      "outputs": [
        {
          "name": "stdout",
          "output_type": "stream",
          "text": [
            "name: Alice\n",
            "age: 25\n",
            "city: New York\n"
          ]
        }
      ],
      "source": [
        "def print_kwargs(**word):\n",
        "    for key, value in word.items():\n",
        "        print(f\"{key}: {value}\")\n",
        "# Example usage\n",
        "print_kwargs(name=\"Alice\", age=25, city=\"New York\")"
      ]
    },
    {
      "cell_type": "code",
      "execution_count": 23,
      "metadata": {},
      "outputs": [
        {
          "name": "stdout",
          "output_type": "stream",
          "text": [
            "Hello, World!\n"
          ]
        }
      ],
      "source": [
        "from my_module import greet\n",
        "\n",
        "greet()"
      ]
    },
    {
      "cell_type": "markdown",
      "metadata": {
        "id": "WvOAMSqF3ZB_"
      },
      "source": [
        "## Exercise 7: Object-Oriented Programming\n",
        "\n",
        "- Create a class named `Person` with attributes `name` and `age`. Add a method `introduce()` that prints `\"Hello, my name is [name] and I am [age] years old.\"`\n",
        "- Add a `@property` decorator to the `Person` class to create a read-only attribute `birth_year` that calculates the birth year based on the current year.\n",
        "- Create a subclass `Student` that inherits from `Person` and adds an attribute `major`. Override the `introduce()` method to include the major.\n",
        "- Add a `@classmethod` to the `Person` class that creates a `Person` object from a birth year.\n",
        "- Add a `@staticmethod` to the `Person` class that checks if a given year is a leap year.\n",
        "- Create a class `Vector` with attributes `x` and `y`. Override the `__add__` method to add two `Vector` objects.\n",
        "- Override the `__str__` method in the `Vector` class to print the vector in the format `\"Vector(x, y)\"`.\n",
        "- Create a class `GameCharacter` with attributes `name`, `health`, and `strength`. Add methods `attack()` and `defend()`.\n",
        "- Create a subclass `Villain` that inherits from `GameCharacter` and adds an attribute `evilness`. Override the `attack()` method to include an evil laugh.\n",
        "\n"
      ]
    },
    {
      "cell_type": "code",
      "execution_count": 4,
      "metadata": {
        "id": "_FIvP44u3bDw"
      },
      "outputs": [
        {
          "name": "stdout",
          "output_type": "stream",
          "text": [
            "Hello, my name is Mezdoud ala eddine and I am 25 years old.\n",
            "Hello, my name is chihabe, I am 18 years old, and I major in python.\n",
            "My birth year is 2000\n",
            "My birth year is 2007\n",
            "Hello, my name is John Doe and I am 35 years old.\n",
            "Vector(12 , 11)\n"
          ]
        }
      ],
      "source": [
        "from datetime import datetime\n",
        "\n",
        "class Person:\n",
        "    def __init__(self, name, age):\n",
        "        self.name = name\n",
        "        self.age = age\n",
        "\n",
        "    def introduce(self):\n",
        "        print(f\"Hello, my name is {self.name} and I am {self.age} years old.\")\n",
        "\n",
        "    @property\n",
        "    def birth_year(self):\n",
        "        date = datetime.now().year\n",
        "        return date - self.age\n",
        "\n",
        "    @classmethod\n",
        "    def from_birth_year(cls, name, birth_year):\n",
        "        current_year = datetime.now().year\n",
        "        age = current_year - birth_year\n",
        "        return cls(name, age)\n",
        "    @classmethod\n",
        "    def from_birthday_year(cls,name,birthday):\n",
        "        current_year = datetime.now().year\n",
        "        age = current_year - birthday\n",
        "        return cls(name,age)\n",
        "\n",
        "    @staticmethod\n",
        "    def is_leap_year(year):\n",
        "        return year % 4 == 0 and (year % 100 != 0 or year % 400 == 0)\n",
        "\n",
        "\n",
        "class Student(Person):\n",
        "    def __init__(self, name, age, major):\n",
        "        super().__init__(name, age)\n",
        "        self.major = major\n",
        "\n",
        "    def introduce(self):\n",
        "        print(f\"Hello, my name is {self.name}, I am {self.age} years old, and I major in {self.major}.\")\n",
        "\n",
        "\n",
        "class Vector:\n",
        "    def __init__(self,x,y):\n",
        "        self.x = x\n",
        "        self.y = y\n",
        "\n",
        "    def __add__(self,other):\n",
        "        return Vector(self.x + other.x , self.y + other.y)\n",
        "    \n",
        "    def __str__(self):\n",
        "        return f\"Vector({self.x} , {self.y})\"\n",
        "    \n",
        "\n",
        "\n",
        "ala = Person(name=\"Mezdoud ala eddine\", age=25)\n",
        "chihab = Student(name=\"chihabe\", age=18, major=\"python\")\n",
        "ala.introduce()\n",
        "chihab.introduce()\n",
        "\n",
        "print(f\"My birth year is {ala.birth_year}\")\n",
        "print(f\"My birth year is {chihab.birth_year}\")\n",
        "\n",
        "# Example usage of the @classmethod\n",
        "person_from_birth_year = Person.from_birth_year(name=\"John Doe\", birth_year=1990)\n",
        "person_from_birth_year.introduce()\n",
        "\n",
        "vec_one = Vector(5,3)\n",
        "vec_two = Vector(7,8)\n",
        "vec = vec_one + vec_two\n",
        "print(vec)\n"
      ]
    },
    {
      "cell_type": "code",
      "execution_count": 11,
      "metadata": {},
      "outputs": [
        {
          "name": "stdout",
          "output_type": "stream",
          "text": [
            "Madara: take this shot HAHAHAHAHAHA\n",
            "Naruto: my health is 80 I need to defence this attack!\n",
            "Naruto: take this attack too !! ... woooaaaah!!\n",
            "Madara: my health is 100 I need to defence this attack!\n"
          ]
        }
      ],
      "source": [
        "class GameCharacter:\n",
        "    def __init__(self,name,health,stregth):\n",
        "        self.name = name\n",
        "        self.health = health\n",
        "        self.strength = stregth\n",
        "\n",
        "    def attack(self):\n",
        "        print(f\"{self.name}: take this attack too !! ... woooaaaah!!\")\n",
        "    def defence(self):\n",
        "        print(f\"{self.name}: my health is {self.health} I need to defence this attack!\")\n",
        "\n",
        "\n",
        "class Villain(GameCharacter):\n",
        "    def __init__(self, name, health, stregth,evilness):\n",
        "        super().__init__(name, health, stregth)\n",
        "        self.evilness = evilness\n",
        "\n",
        "    def attack(self):\n",
        "        print(f\"{self.name}: take this shot HAHAHAHAHAHA\")\n",
        "\n",
        "\n",
        "naruto = GameCharacter(\"Naruto\",80,79)\n",
        "madara = Villain(\"Madara\",100,99,60)\n",
        "\n",
        "madara.attack()\n",
        "naruto.defence()\n",
        "naruto.attack()\n",
        "madara.defence()"
      ]
    },
    {
      "cell_type": "markdown",
      "metadata": {
        "id": "7DbFVTRR3WCQ"
      },
      "source": [
        "## Exercise 8: File Handling\n",
        "\n",
        "1. Write a program to read a text file (`example.txt`) and print its contents.\n",
        "2. Modify your program to include exception handling. Use a `try`/`except` block to handle cases where the file might not exist or cannot be opened.\n",
        "3. Write a program to write the string `\"Hello, File!\"` to a new file (`output.txt`).\n",
        "4. Write a program to append the string `\"This is a new line.\"` to an existing file (`output.txt`).\n",
        "5. Use the `json` module to write a dictionary `{ \"name\": \"Alice\", \"age\": 25 }` to a JSON file (`data.json`).\n",
        "6. Use the `json` module to read the JSON file (`data.json`) and print its contents.\n",
        "7. Use the `pickle` module to serialize a list `[1, 2, 3, 4, 5]` and save it to a file (`data.pkl`).\n",
        "8. Use the `pickle` module to deserialize the list from the file (`data.pkl`) and print it.\n",
        "9. Use the `csv` module to read a CSV file (`students.csv`) and print each row as a dictionary.\n",
        "10. Use the `csv` module to write a list of dictionaries `[ {\"name\": \"Alice\", \"age\": 25}, {\"name\": \"Bob\", \"age\": 30} ]` to a CSV file (`output.csv`).\n",
        "\n",
        "\n"
      ]
    },
    {
      "cell_type": "code",
      "execution_count": 5,
      "metadata": {
        "id": "w1yDOd6R3Yr6"
      },
      "outputs": [
        {
          "name": "stdout",
          "output_type": "stream",
          "text": [
            "Why did the programmer go broke?\n",
            "\n",
            "Because he used up all his cache!\n"
          ]
        }
      ],
      "source": [
        "try:\n",
        "    with open(\"files/example.txt\",\"r\") as file:\n",
        "        content = file.read()\n",
        "        print(content)\n",
        "\n",
        "except FileNotFoundError:\n",
        "    print(f\"file not found\")\n",
        "\n",
        "except Exception as e:\n",
        "    print(f\"error has occured: {e}\")"
      ]
    },
    {
      "cell_type": "code",
      "execution_count": 9,
      "metadata": {},
      "outputs": [
        {
          "name": "stdout",
          "output_type": "stream",
          "text": [
            "Why did the programmer go broke?\n",
            "\n",
            "Because he used up all his cache!\n",
            "This is a new line. \n"
          ]
        }
      ],
      "source": [
        "try:\n",
        "    # Open the file in append mode and write the new line\n",
        "    with open(\"files/example.txt\", \"a\") as file:\n",
        "        line_to_add = \"\\nThis is a new line. \"\n",
        "        file.write(line_to_add)\n",
        "    \n",
        "    # Open the file in read mode to read and print the content\n",
        "    with open(\"files/example.txt\", \"r\") as file:\n",
        "        content = file.read()\n",
        "        print(content)\n",
        "\n",
        "except FileNotFoundError:\n",
        "    print(\"File not found.\")\n",
        "\n",
        "except Exception as e:\n",
        "    print(f\"An error has occurred: {e}\")\n"
      ]
    },
    {
      "cell_type": "code",
      "execution_count": null,
      "metadata": {},
      "outputs": [
        {
          "name": "stdout",
          "output_type": "stream",
          "text": [
            "{\n",
            "    \"name\": \"Alice\",\n",
            "    \"age\": 25\n",
            "}\n"
          ]
        }
      ],
      "source": [
        "import json\n",
        "\n",
        "alice = {\"name\": \"Alice\", \"age\": 25}\n",
        "\n",
        "# Write the dictionary to a JSON file\n",
        "with open(\"files/data.json\", \"w\") as file:\n",
        "    json.dump(alice, file, indent=4)\n",
        "\n",
        "\n",
        "with open(\"files/data.json\", \"r\") as file:\n",
        "    data = json.load(file)  # Load the JSON data into a Python object\n",
        "    print(json.dumps(data, indent=4))  # Pretty-print the Python object as a JSON string\n"
      ]
    },
    {
      "cell_type": "code",
      "execution_count": 18,
      "metadata": {},
      "outputs": [
        {
          "name": "stdout",
          "output_type": "stream",
          "text": [
            "[1, 2, 3, 4, 5]\n"
          ]
        }
      ],
      "source": [
        "import pickle\n",
        "\n",
        "data = [x for x in range(1,6)]\n",
        "\n",
        "with open(\"files/data.pkl\" , \"wb\") as file:\n",
        "    pickle.dump(data,file)\n",
        "\n",
        "with open(\"files/data.pkl\",\"rb\") as file:\n",
        "    loaded_data = pickle.load(file)\n",
        "\n",
        "\n",
        "print(loaded_data)"
      ]
    },
    {
      "cell_type": "code",
      "execution_count": 31,
      "metadata": {},
      "outputs": [
        {
          "name": "stdout",
          "output_type": "stream",
          "text": [
            "{'name': 'Alice', 'age': '25'}\n",
            "{'name': 'Bob', 'age': '30'}\n",
            "{'name': 'Ala', 'age': '21'}\n"
          ]
        }
      ],
      "source": [
        "import csv\n",
        "\n",
        "with open(\"files/students.csv\",\"r\") as file:\n",
        "    content = csv.DictReader(file)\n",
        "    for row in content: \n",
        "        print(row)"
      ]
    },
    {
      "cell_type": "code",
      "execution_count": 30,
      "metadata": {},
      "outputs": [],
      "source": [
        "students = [ {\"name\": \"Alice\", \"age\": 25}, {\"name\": \"Bob\", \"age\": 30} , {\"name\": \"Ala\", \"age\": 21}]\n",
        "\n",
        "\n",
        "with open(\"files/students.csv\",\"w\") as file:\n",
        "    writer = csv.DictWriter(file,fieldnames=[\"name\",\"age\"])\n",
        "    writer.writeheader()\n",
        "    writer.writerows(students)\n"
      ]
    },
    {
      "cell_type": "markdown",
      "metadata": {
        "id": "TIJHpUO03bPh"
      },
      "source": [
        "## Exercise 9: Advanced Topics\n",
        "\n",
        "- Write a decorator `@timer` that measures the time taken to execute a function.\n",
        "- Use a generator to create a sequence of Fibonacci numbers up to `100`.\n",
        "- Write a lambda function that takes two numbers and returns their product.\n",
        "- Use the `map()` function to apply a lambda function that squares each element in a list `[1, 2, 3, 4, 5]`.\n",
        "- Use the `filter()` function to filter out even numbers from a list `[1, 2, 3, 4, 5, 6, 7, 8, 9]`.\n",
        "- Use the `reduce()` function from the `functools` module to calculate the product of all numbers in a list `[1, 2, 3, 4, 5]`.\n",
        "- Write a context manager using the `with` statement to handle file operations.\n",
        "- Use the `itertools` module to generate all permutations of the list `[1, 2, 3]`.\n",
        "- Write a recursive function to calculate the factorial of a number."
      ]
    },
    {
      "cell_type": "code",
      "execution_count": null,
      "metadata": {
        "id": "_YjY-3Qk3b2n"
      },
      "outputs": [],
      "source": []
    }
  ],
  "metadata": {
    "colab": {
      "provenance": []
    },
    "kernelspec": {
      "display_name": "base",
      "language": "python",
      "name": "python3"
    },
    "language_info": {
      "codemirror_mode": {
        "name": "ipython",
        "version": 3
      },
      "file_extension": ".py",
      "mimetype": "text/x-python",
      "name": "python",
      "nbconvert_exporter": "python",
      "pygments_lexer": "ipython3",
      "version": "3.12.9"
    }
  },
  "nbformat": 4,
  "nbformat_minor": 0
}
